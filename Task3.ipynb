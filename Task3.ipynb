{
 "cells": [
  {
   "cell_type": "code",
   "execution_count": 1,
   "metadata": {},
   "outputs": [],
   "source": [
    "id1 = \"206239568\"\n",
    "id2 = \"207330176\"\n",
    "\n",
    "name_student_1 = \"Kobi, Mazuz\"\n",
    "name_student_2 = \"Dolev, Nahmias\"\n",
    "\n",
    "import pandas as pd\n",
    "import numpy as np\n",
    "df = pd.DataFrame([id1,id2])\n",
    "df.to_clipboard(index=False,header=False)\n",
    "\n",
    "url = 'https://raw.githubusercontent.com/nlihin/data-analytics/main/datasets/youtube/youtube_US_short.csv'\n",
    "utube_df = pd.read_csv(url)"
   ]
  },
  {
   "cell_type": "markdown",
   "metadata": {},
   "source": [
    "Q1: show title, views, publish_time columns of the most viewed video."
   ]
  },
  {
   "cell_type": "code",
   "execution_count": 2,
   "metadata": {},
   "outputs": [
    {
     "data": {
      "text/html": [
       "<div>\n",
       "<style scoped>\n",
       "    .dataframe tbody tr th:only-of-type {\n",
       "        vertical-align: middle;\n",
       "    }\n",
       "\n",
       "    .dataframe tbody tr th {\n",
       "        vertical-align: top;\n",
       "    }\n",
       "\n",
       "    .dataframe thead th {\n",
       "        text-align: right;\n",
       "    }\n",
       "</style>\n",
       "<table border=\"1\" class=\"dataframe\">\n",
       "  <thead>\n",
       "    <tr style=\"text-align: right;\">\n",
       "      <th></th>\n",
       "      <th>title</th>\n",
       "      <th>views</th>\n",
       "      <th>publish_time</th>\n",
       "    </tr>\n",
       "  </thead>\n",
       "  <tbody>\n",
       "    <tr>\n",
       "      <th>6181</th>\n",
       "      <td>YouTube Rewind: The Shape of 2017 | #YouTubeRe...</td>\n",
       "      <td>149376127</td>\n",
       "      <td>2017-12-06T17:58:51.000Z</td>\n",
       "    </tr>\n",
       "  </tbody>\n",
       "</table>\n",
       "</div>"
      ],
      "text/plain": [
       "                                                  title      views  \\\n",
       "6181  YouTube Rewind: The Shape of 2017 | #YouTubeRe...  149376127   \n",
       "\n",
       "                  publish_time  \n",
       "6181  2017-12-06T17:58:51.000Z  "
      ]
     },
     "execution_count": 2,
     "metadata": {},
     "output_type": "execute_result"
    }
   ],
   "source": [
    "utube_df_1 = utube_df[['title','views','publish_time']]\n",
    "max_val = utube_df_1['views'].max()\n",
    "utube_df_1.loc[utube_df_1['views'] == max_val]"
   ]
  },
  {
   "cell_type": "markdown",
   "metadata": {},
   "source": [
    "Q2: Show the three channels with the top views - channel_title and views columns only."
   ]
  },
  {
   "cell_type": "code",
   "execution_count": 3,
   "metadata": {},
   "outputs": [
    {
     "data": {
      "text/html": [
       "<div>\n",
       "<style scoped>\n",
       "    .dataframe tbody tr th:only-of-type {\n",
       "        vertical-align: middle;\n",
       "    }\n",
       "\n",
       "    .dataframe tbody tr th {\n",
       "        vertical-align: top;\n",
       "    }\n",
       "\n",
       "    .dataframe thead th {\n",
       "        text-align: right;\n",
       "    }\n",
       "</style>\n",
       "<table border=\"1\" class=\"dataframe\">\n",
       "  <thead>\n",
       "    <tr style=\"text-align: right;\">\n",
       "      <th></th>\n",
       "      <th>views</th>\n",
       "    </tr>\n",
       "    <tr>\n",
       "      <th>channel_title</th>\n",
       "      <th></th>\n",
       "    </tr>\n",
       "  </thead>\n",
       "  <tbody>\n",
       "    <tr>\n",
       "      <th>YouTube Spotlight</th>\n",
       "      <td>783298628</td>\n",
       "    </tr>\n",
       "    <tr>\n",
       "      <th>Marvel Entertainment</th>\n",
       "      <td>679590872</td>\n",
       "    </tr>\n",
       "    <tr>\n",
       "      <th>LuisFonsiVEVO</th>\n",
       "      <td>534738794</td>\n",
       "    </tr>\n",
       "  </tbody>\n",
       "</table>\n",
       "</div>"
      ],
      "text/plain": [
       "                          views\n",
       "channel_title                  \n",
       "YouTube Spotlight     783298628\n",
       "Marvel Entertainment  679590872\n",
       "LuisFonsiVEVO         534738794"
      ]
     },
     "execution_count": 3,
     "metadata": {},
     "output_type": "execute_result"
    }
   ],
   "source": [
    "utube_df_2 = utube_df.groupby('channel_title')[['channel_title','views']].sum()\n",
    "utube_df_2 = utube_df_2.sort_values('views', ascending=False)\n",
    "utube_df_2[0:3]"
   ]
  },
  {
   "cell_type": "markdown",
   "metadata": {},
   "source": [
    "Q3: what's the correlation between comment_count,views,likes,dislikes?"
   ]
  },
  {
   "cell_type": "code",
   "execution_count": 4,
   "metadata": {},
   "outputs": [
    {
     "data": {
      "text/html": [
       "<div>\n",
       "<style scoped>\n",
       "    .dataframe tbody tr th:only-of-type {\n",
       "        vertical-align: middle;\n",
       "    }\n",
       "\n",
       "    .dataframe tbody tr th {\n",
       "        vertical-align: top;\n",
       "    }\n",
       "\n",
       "    .dataframe thead th {\n",
       "        text-align: right;\n",
       "    }\n",
       "</style>\n",
       "<table border=\"1\" class=\"dataframe\">\n",
       "  <thead>\n",
       "    <tr style=\"text-align: right;\">\n",
       "      <th></th>\n",
       "      <th>comment_count</th>\n",
       "      <th>views</th>\n",
       "      <th>likes</th>\n",
       "      <th>dislikes</th>\n",
       "    </tr>\n",
       "  </thead>\n",
       "  <tbody>\n",
       "    <tr>\n",
       "      <th>comment_count</th>\n",
       "      <td>1.000000</td>\n",
       "      <td>0.840532</td>\n",
       "      <td>0.881849</td>\n",
       "      <td>0.843331</td>\n",
       "    </tr>\n",
       "    <tr>\n",
       "      <th>views</th>\n",
       "      <td>0.840532</td>\n",
       "      <td>1.000000</td>\n",
       "      <td>0.877789</td>\n",
       "      <td>0.866979</td>\n",
       "    </tr>\n",
       "    <tr>\n",
       "      <th>likes</th>\n",
       "      <td>0.881849</td>\n",
       "      <td>0.877789</td>\n",
       "      <td>1.000000</td>\n",
       "      <td>0.801154</td>\n",
       "    </tr>\n",
       "    <tr>\n",
       "      <th>dislikes</th>\n",
       "      <td>0.843331</td>\n",
       "      <td>0.866979</td>\n",
       "      <td>0.801154</td>\n",
       "      <td>1.000000</td>\n",
       "    </tr>\n",
       "  </tbody>\n",
       "</table>\n",
       "</div>"
      ],
      "text/plain": [
       "               comment_count     views     likes  dislikes\n",
       "comment_count       1.000000  0.840532  0.881849  0.843331\n",
       "views               0.840532  1.000000  0.877789  0.866979\n",
       "likes               0.881849  0.877789  1.000000  0.801154\n",
       "dislikes            0.843331  0.866979  0.801154  1.000000"
      ]
     },
     "execution_count": 4,
     "metadata": {},
     "output_type": "execute_result"
    }
   ],
   "source": [
    "utube_df_3 = utube_df[['comment_count','views','likes','dislikes']]\n",
    "utube_df_3 = utube_df_3.corr(method='spearman')\n",
    "utube_df_3"
   ]
  },
  {
   "cell_type": "markdown",
   "metadata": {},
   "source": [
    "Q4: show Q3 as a heatmap."
   ]
  },
  {
   "cell_type": "code",
   "execution_count": 5,
   "metadata": {},
   "outputs": [
    {
     "data": {
      "text/plain": [
       "<AxesSubplot:>"
      ]
     },
     "execution_count": 5,
     "metadata": {},
     "output_type": "execute_result"
    },
    {
     "data": {
      "image/png": "[encoded data removed]",
      "text/plain": [
       "<Figure size 432x288 with 2 Axes>"
      ]
     },
     "metadata": {
      "needs_background": "light"
     },
     "output_type": "display_data"
    }
   ],
   "source": [
    "import seaborn as sns\n",
    "sns.heatmap(data=utube_df_3,cmap='Blues', annot=True)"
   ]
  },
  {
   "cell_type": "markdown",
   "metadata": {},
   "source": [
    "Q5: create a scatterplot to show the two strongest correlation found in Q3(if its a tie pick two of them)."
   ]
  },
  {
   "cell_type": "code",
   "execution_count": 6,
   "metadata": {},
   "outputs": [
    {
     "data": {
      "image/png": "[encoded data removed]",
      "text/plain": [
       "<Figure size 1080x360 with 2 Axes>"
      ]
     },
     "metadata": {
      "needs_background": "light"
     },
     "output_type": "display_data"
    }
   ],
   "source": [
    "from matplotlib import pyplot as plt\n",
    "fig, axes = plt.subplots(1, 2, figsize=(15, 5))\n",
    "utube_df_5 = utube_df_3.unstack().sort_values()[-8:-4]\n",
    "title_tuple = pd.Series.keys(utube_df_5)\n",
    "first_plt = sns.scatterplot(ax=axes[0],data=utube_df, x=title_tuple[0][0], y=title_tuple[0][1])\n",
    "second_plt = sns.scatterplot(ax=axes[1],data=utube_df, x=title_tuple[2][0], y=title_tuple[2][1])"
   ]
  },
  {
   "cell_type": "markdown",
   "metadata": {},
   "source": [
    "Q6: Show the number of views in every category for the years 2017-2018."
   ]
  },
  {
   "cell_type": "code",
   "execution_count": 7,
   "metadata": {},
   "outputs": [
    {
     "data": {
      "text/html": [
       "<div>\n",
       "<style scoped>\n",
       "    .dataframe tbody tr th:only-of-type {\n",
       "        vertical-align: middle;\n",
       "    }\n",
       "\n",
       "    .dataframe tbody tr th {\n",
       "        vertical-align: top;\n",
       "    }\n",
       "\n",
       "    .dataframe thead th {\n",
       "        text-align: right;\n",
       "    }\n",
       "</style>\n",
       "<table border=\"1\" class=\"dataframe\">\n",
       "  <thead>\n",
       "    <tr style=\"text-align: right;\">\n",
       "      <th>category_id</th>\n",
       "      <th>1</th>\n",
       "      <th>2</th>\n",
       "      <th>10</th>\n",
       "      <th>15</th>\n",
       "      <th>17</th>\n",
       "      <th>19</th>\n",
       "      <th>20</th>\n",
       "      <th>22</th>\n",
       "      <th>23</th>\n",
       "      <th>24</th>\n",
       "      <th>25</th>\n",
       "      <th>26</th>\n",
       "      <th>27</th>\n",
       "      <th>28</th>\n",
       "      <th>29</th>\n",
       "      <th>43</th>\n",
       "    </tr>\n",
       "    <tr>\n",
       "      <th>year</th>\n",
       "      <th></th>\n",
       "      <th></th>\n",
       "      <th></th>\n",
       "      <th></th>\n",
       "      <th></th>\n",
       "      <th></th>\n",
       "      <th></th>\n",
       "      <th></th>\n",
       "      <th></th>\n",
       "      <th></th>\n",
       "      <th></th>\n",
       "      <th></th>\n",
       "      <th></th>\n",
       "      <th></th>\n",
       "      <th></th>\n",
       "      <th></th>\n",
       "    </tr>\n",
       "  </thead>\n",
       "  <tbody>\n",
       "    <tr>\n",
       "      <th>2017</th>\n",
       "      <td>1.523700e+06</td>\n",
       "      <td>673961.717949</td>\n",
       "      <td>2.699066e+06</td>\n",
       "      <td>616435.598291</td>\n",
       "      <td>764014.400802</td>\n",
       "      <td>430884.428571</td>\n",
       "      <td>6.066798e+05</td>\n",
       "      <td>816076.476744</td>\n",
       "      <td>1.139901e+06</td>\n",
       "      <td>1.619840e+06</td>\n",
       "      <td>299529.406607</td>\n",
       "      <td>816109.490296</td>\n",
       "      <td>538659.191489</td>\n",
       "      <td>847030.296108</td>\n",
       "      <td>11013.928571</td>\n",
       "      <td>159222.363636</td>\n",
       "    </tr>\n",
       "    <tr>\n",
       "      <th>2018</th>\n",
       "      <td>1.116844e+06</td>\n",
       "      <td>268244.866667</td>\n",
       "      <td>2.936402e+06</td>\n",
       "      <td>517924.841270</td>\n",
       "      <td>570928.972222</td>\n",
       "      <td>261498.344828</td>\n",
       "      <td>1.683533e+06</td>\n",
       "      <td>399114.317647</td>\n",
       "      <td>1.126556e+06</td>\n",
       "      <td>1.217611e+06</td>\n",
       "      <td>237351.269608</td>\n",
       "      <td>430092.593301</td>\n",
       "      <td>397855.081301</td>\n",
       "      <td>581375.204082</td>\n",
       "      <td>25463.555556</td>\n",
       "      <td>0.000000</td>\n",
       "    </tr>\n",
       "  </tbody>\n",
       "</table>\n",
       "</div>"
      ],
      "text/plain": [
       "category_id            1              2             10             15  \\\n",
       "year                                                                    \n",
       "2017         1.523700e+06  673961.717949  2.699066e+06  616435.598291   \n",
       "2018         1.116844e+06  268244.866667  2.936402e+06  517924.841270   \n",
       "\n",
       "category_id             17             19            20             22  \\\n",
       "year                                                                     \n",
       "2017         764014.400802  430884.428571  6.066798e+05  816076.476744   \n",
       "2018         570928.972222  261498.344828  1.683533e+06  399114.317647   \n",
       "\n",
       "category_id            23            24             25             26  \\\n",
       "year                                                                    \n",
       "2017         1.139901e+06  1.619840e+06  299529.406607  816109.490296   \n",
       "2018         1.126556e+06  1.217611e+06  237351.269608  430092.593301   \n",
       "\n",
       "category_id             27             28            29             43  \n",
       "year                                                                    \n",
       "2017         538659.191489  847030.296108  11013.928571  159222.363636  \n",
       "2018         397855.081301  581375.204082  25463.555556       0.000000  "
      ]
     },
     "execution_count": 7,
     "metadata": {},
     "output_type": "execute_result"
    }
   ],
   "source": [
    "utube_df['year'] = pd.DatetimeIndex(utube_df['publish_time']).year\n",
    "utube_df_6 = utube_df.pivot_table(index=['year'],columns='category_id', values='views')\n",
    "utube_df_6 = utube_df_6.loc['2017':'2018', :]\n",
    "utube_df_6 = utube_df_6.fillna(0)\n",
    "utube_df_6"
   ]
  }
 ],
 "metadata": {
  "kernelspec": {
   "display_name": "Python 3",
   "language": "python",
   "name": "python3"
  },
  "language_info": {
   "codemirror_mode": {
    "name": "ipython",
    "version": 3
   },
   "file_extension": ".py",
   "mimetype": "text/x-python",
   "name": "python",
   "nbconvert_exporter": "python",
   "pygments_lexer": "ipython3",
   "version": "3.8.5"
  }
 },
 "nbformat": 4,
 "nbformat_minor": 4
}
