{
 "cells": [
  {
   "cell_type": "markdown",
   "metadata": {},
   "source": [
    "# Identify:\n",
    "\n",
    "Please fill-in your ID in the following cell, **only id numbers, no names!**\n"
   ]
  },
  {
   "cell_type": "code",
   "execution_count": 1,
   "metadata": {},
   "outputs": [],
   "source": [
    "id1 = \"206239568\"\n",
    "id2 = \"207330176\""
   ]
  },
  {
   "cell_type": "code",
   "execution_count": 2,
   "metadata": {},
   "outputs": [],
   "source": [
    "import pandas as pd\n",
    "import numpy as np\n",
    "import matplotlib.pyplot as plt\n",
    "import seaborn as sns\n",
    "import sklearn as sk\n",
    "from sklearn import tree\n",
    "from sklearn.tree import DecisionTreeClassifier\n",
    "from sklearn.model_selection import train_test_split\n",
    "from sklearn.metrics import mean_squared_error as mse"
   ]
  },
  {
   "cell_type": "markdown",
   "metadata": {},
   "source": [
    "Uncomment in case two students are doing the assignment together:"
   ]
  },
  {
   "cell_type": "code",
   "execution_count": 3,
   "metadata": {},
   "outputs": [],
   "source": [
    "df = pd.DataFrame([id1,id2])"
   ]
  },
  {
   "cell_type": "code",
   "execution_count": 4,
   "metadata": {},
   "outputs": [],
   "source": [
    "df.to_clipboard(index=False,header=False)"
   ]
  },
  {
   "cell_type": "markdown",
   "metadata": {},
   "source": [
    "---"
   ]
  },
  {
   "cell_type": "markdown",
   "metadata": {},
   "source": [
    "----"
   ]
  },
  {
   "cell_type": "code",
   "execution_count": 5,
   "metadata": {},
   "outputs": [
    {
     "data": {
      "text/html": [
       "<div>\n",
       "<style scoped>\n",
       "    .dataframe tbody tr th:only-of-type {\n",
       "        vertical-align: middle;\n",
       "    }\n",
       "\n",
       "    .dataframe tbody tr th {\n",
       "        vertical-align: top;\n",
       "    }\n",
       "\n",
       "    .dataframe thead th {\n",
       "        text-align: right;\n",
       "    }\n",
       "</style>\n",
       "<table border=\"1\" class=\"dataframe\">\n",
       "  <thead>\n",
       "    <tr style=\"text-align: right;\">\n",
       "      <th></th>\n",
       "      <th>Unnamed: 0</th>\n",
       "      <th>Date</th>\n",
       "      <th>AveragePrice</th>\n",
       "      <th>total_sold</th>\n",
       "      <th>small_sold</th>\n",
       "      <th>large_sold</th>\n",
       "      <th>sma</th>\n",
       "      <th>Total Bags</th>\n",
       "      <th>Small Bags</th>\n",
       "      <th>Large Bags</th>\n",
       "      <th>XLarge Bags</th>\n",
       "      <th>type</th>\n",
       "      <th>year</th>\n",
       "      <th>region</th>\n",
       "    </tr>\n",
       "  </thead>\n",
       "  <tbody>\n",
       "    <tr>\n",
       "      <th>0</th>\n",
       "      <td>0</td>\n",
       "      <td>27/12/2015</td>\n",
       "      <td>1.33</td>\n",
       "      <td>64236.62</td>\n",
       "      <td>1036.74</td>\n",
       "      <td>54454.85</td>\n",
       "      <td>48.16</td>\n",
       "      <td>8696.87</td>\n",
       "      <td>8603.62</td>\n",
       "      <td>93.25</td>\n",
       "      <td>0.0</td>\n",
       "      <td>conventional</td>\n",
       "      <td>2015</td>\n",
       "      <td>Albany</td>\n",
       "    </tr>\n",
       "    <tr>\n",
       "      <th>1</th>\n",
       "      <td>1</td>\n",
       "      <td>20/12/2015</td>\n",
       "      <td>1.35</td>\n",
       "      <td>54876.98</td>\n",
       "      <td>674.28</td>\n",
       "      <td>44638.81</td>\n",
       "      <td>58.33</td>\n",
       "      <td>9505.56</td>\n",
       "      <td>9408.07</td>\n",
       "      <td>97.49</td>\n",
       "      <td>0.0</td>\n",
       "      <td>conventional</td>\n",
       "      <td>2015</td>\n",
       "      <td>Albany</td>\n",
       "    </tr>\n",
       "    <tr>\n",
       "      <th>2</th>\n",
       "      <td>2</td>\n",
       "      <td>13/12/2015</td>\n",
       "      <td>0.93</td>\n",
       "      <td>118220.22</td>\n",
       "      <td>794.70</td>\n",
       "      <td>109149.67</td>\n",
       "      <td>130.50</td>\n",
       "      <td>8145.35</td>\n",
       "      <td>8042.21</td>\n",
       "      <td>103.14</td>\n",
       "      <td>0.0</td>\n",
       "      <td>conventional</td>\n",
       "      <td>2015</td>\n",
       "      <td>Albany</td>\n",
       "    </tr>\n",
       "    <tr>\n",
       "      <th>3</th>\n",
       "      <td>3</td>\n",
       "      <td>06/12/2015</td>\n",
       "      <td>1.08</td>\n",
       "      <td>78992.15</td>\n",
       "      <td>1132.00</td>\n",
       "      <td>71976.41</td>\n",
       "      <td>72.58</td>\n",
       "      <td>5811.16</td>\n",
       "      <td>5677.40</td>\n",
       "      <td>133.76</td>\n",
       "      <td>0.0</td>\n",
       "      <td>conventional</td>\n",
       "      <td>2015</td>\n",
       "      <td>Albany</td>\n",
       "    </tr>\n",
       "    <tr>\n",
       "      <th>4</th>\n",
       "      <td>4</td>\n",
       "      <td>29/11/2015</td>\n",
       "      <td>1.28</td>\n",
       "      <td>51039.60</td>\n",
       "      <td>941.48</td>\n",
       "      <td>43838.39</td>\n",
       "      <td>75.78</td>\n",
       "      <td>6183.95</td>\n",
       "      <td>5986.26</td>\n",
       "      <td>197.69</td>\n",
       "      <td>0.0</td>\n",
       "      <td>conventional</td>\n",
       "      <td>2015</td>\n",
       "      <td>Albany</td>\n",
       "    </tr>\n",
       "  </tbody>\n",
       "</table>\n",
       "</div>"
      ],
      "text/plain": [
       "   Unnamed: 0        Date  AveragePrice  total_sold  small_sold  large_sold  \\\n",
       "0           0  27/12/2015          1.33    64236.62     1036.74    54454.85   \n",
       "1           1  20/12/2015          1.35    54876.98      674.28    44638.81   \n",
       "2           2  13/12/2015          0.93   118220.22      794.70   109149.67   \n",
       "3           3  06/12/2015          1.08    78992.15     1132.00    71976.41   \n",
       "4           4  29/11/2015          1.28    51039.60      941.48    43838.39   \n",
       "\n",
       "      sma  Total Bags  Small Bags  Large Bags  XLarge Bags          type  \\\n",
       "0   48.16     8696.87     8603.62       93.25          0.0  conventional   \n",
       "1   58.33     9505.56     9408.07       97.49          0.0  conventional   \n",
       "2  130.50     8145.35     8042.21      103.14          0.0  conventional   \n",
       "3   72.58     5811.16     5677.40      133.76          0.0  conventional   \n",
       "4   75.78     6183.95     5986.26      197.69          0.0  conventional   \n",
       "\n",
       "   year  region  \n",
       "0  2015  Albany  \n",
       "1  2015  Albany  \n",
       "2  2015  Albany  \n",
       "3  2015  Albany  \n",
       "4  2015  Albany  "
      ]
     },
     "execution_count": 5,
     "metadata": {},
     "output_type": "execute_result"
    }
   ],
   "source": [
    "url = 'https://raw.githubusercontent.com/nlihin/data-analytics/main/datasets/avocado.csv'\n",
    "data = pd.read_csv(url)\n",
    "data.head()"
   ]
  },
  {
   "cell_type": "code",
   "execution_count": 6,
   "metadata": {},
   "outputs": [
    {
     "data": {
      "text/plain": [
       "Unnamed: 0        int64\n",
       "Date             object\n",
       "AveragePrice    float64\n",
       "total_sold      float64\n",
       "small_sold      float64\n",
       "large_sold      float64\n",
       "sma             float64\n",
       "Total Bags      float64\n",
       "Small Bags      float64\n",
       "Large Bags      float64\n",
       "XLarge Bags     float64\n",
       "type             object\n",
       "year              int64\n",
       "region           object\n",
       "dtype: object"
      ]
     },
     "execution_count": 6,
     "metadata": {},
     "output_type": "execute_result"
    }
   ],
   "source": [
    "data.dtypes"
   ]
  },
  {
   "cell_type": "markdown",
   "metadata": {},
   "source": [
    "# Q1 \n",
    "Show how much avacados sold in every region each year."
   ]
  },
  {
   "cell_type": "code",
   "execution_count": 7,
   "metadata": {},
   "outputs": [
    {
     "data": {
      "text/html": [
       "<div>\n",
       "<style scoped>\n",
       "    .dataframe tbody tr th:only-of-type {\n",
       "        vertical-align: middle;\n",
       "    }\n",
       "\n",
       "    .dataframe tbody tr th {\n",
       "        vertical-align: top;\n",
       "    }\n",
       "\n",
       "    .dataframe thead th {\n",
       "        text-align: right;\n",
       "    }\n",
       "</style>\n",
       "<table border=\"1\" class=\"dataframe\">\n",
       "  <thead>\n",
       "    <tr style=\"text-align: right;\">\n",
       "      <th></th>\n",
       "      <th></th>\n",
       "      <th>total_sold</th>\n",
       "    </tr>\n",
       "    <tr>\n",
       "      <th>year</th>\n",
       "      <th>region</th>\n",
       "      <th></th>\n",
       "    </tr>\n",
       "  </thead>\n",
       "  <tbody>\n",
       "    <tr>\n",
       "      <th rowspan=\"5\" valign=\"top\">2015</th>\n",
       "      <th>Albany</th>\n",
       "      <td>4.029896e+06</td>\n",
       "    </tr>\n",
       "    <tr>\n",
       "      <th>Atlanta</th>\n",
       "      <td>2.323170e+07</td>\n",
       "    </tr>\n",
       "    <tr>\n",
       "      <th>BaltimoreWashington</th>\n",
       "      <td>4.064558e+07</td>\n",
       "    </tr>\n",
       "    <tr>\n",
       "      <th>Boise</th>\n",
       "      <td>3.784357e+06</td>\n",
       "    </tr>\n",
       "    <tr>\n",
       "      <th>Boston</th>\n",
       "      <td>2.745499e+07</td>\n",
       "    </tr>\n",
       "    <tr>\n",
       "      <th>...</th>\n",
       "      <th>...</th>\n",
       "      <td>...</td>\n",
       "    </tr>\n",
       "    <tr>\n",
       "      <th rowspan=\"5\" valign=\"top\">2018</th>\n",
       "      <th>Syracuse</th>\n",
       "      <td>1.046988e+06</td>\n",
       "    </tr>\n",
       "    <tr>\n",
       "      <th>Tampa</th>\n",
       "      <td>6.642055e+06</td>\n",
       "    </tr>\n",
       "    <tr>\n",
       "      <th>TotalUS</th>\n",
       "      <td>5.236323e+08</td>\n",
       "    </tr>\n",
       "    <tr>\n",
       "      <th>West</th>\n",
       "      <td>9.247709e+07</td>\n",
       "    </tr>\n",
       "    <tr>\n",
       "      <th>WestTexNewMexico</th>\n",
       "      <td>1.180082e+07</td>\n",
       "    </tr>\n",
       "  </tbody>\n",
       "</table>\n",
       "<p>216 rows × 1 columns</p>\n",
       "</div>"
      ],
      "text/plain": [
       "                            total_sold\n",
       "year region                           \n",
       "2015 Albany               4.029896e+06\n",
       "     Atlanta              2.323170e+07\n",
       "     BaltimoreWashington  4.064558e+07\n",
       "     Boise                3.784357e+06\n",
       "     Boston               2.745499e+07\n",
       "...                                ...\n",
       "2018 Syracuse             1.046988e+06\n",
       "     Tampa                6.642055e+06\n",
       "     TotalUS              5.236323e+08\n",
       "     West                 9.247709e+07\n",
       "     WestTexNewMexico     1.180082e+07\n",
       "\n",
       "[216 rows x 1 columns]"
      ]
     },
     "metadata": {},
     "output_type": "display_data"
    }
   ],
   "source": [
    "data[\"Date\"] = pd.to_datetime(data['Date'])\n",
    "data[\"year\"] = pd.DatetimeIndex(data[\"Date\"]).year\n",
    "data_1 = data.groupby([\"year\",\"region\"])[\"total_sold\"].sum()\n",
    "data_1 = pd.DataFrame(data_1)\n",
    "display(data_1)"
   ]
  },
  {
   "cell_type": "markdown",
   "metadata": {},
   "source": [
    "# Q2\n",
    "Create a new DataFrame which contains only a region starts with the first latter of your name and the year 2016.\n",
    "We chose the region \"Denver\"."
   ]
  },
  {
   "cell_type": "code",
   "execution_count": 8,
   "metadata": {},
   "outputs": [
    {
     "data": {
      "text/html": [
       "<div>\n",
       "<style scoped>\n",
       "    .dataframe tbody tr th:only-of-type {\n",
       "        vertical-align: middle;\n",
       "    }\n",
       "\n",
       "    .dataframe tbody tr th {\n",
       "        vertical-align: top;\n",
       "    }\n",
       "\n",
       "    .dataframe thead th {\n",
       "        text-align: right;\n",
       "    }\n",
       "</style>\n",
       "<table border=\"1\" class=\"dataframe\">\n",
       "  <thead>\n",
       "    <tr style=\"text-align: right;\">\n",
       "      <th></th>\n",
       "      <th>Unnamed: 0</th>\n",
       "      <th>Date</th>\n",
       "      <th>AveragePrice</th>\n",
       "      <th>total_sold</th>\n",
       "      <th>small_sold</th>\n",
       "      <th>large_sold</th>\n",
       "      <th>sma</th>\n",
       "      <th>Total Bags</th>\n",
       "      <th>Small Bags</th>\n",
       "      <th>Large Bags</th>\n",
       "      <th>XLarge Bags</th>\n",
       "      <th>type</th>\n",
       "      <th>year</th>\n",
       "      <th>region</th>\n",
       "    </tr>\n",
       "  </thead>\n",
       "  <tbody>\n",
       "    <tr>\n",
       "      <th>624</th>\n",
       "      <td>0</td>\n",
       "      <td>2015-12-27</td>\n",
       "      <td>0.98</td>\n",
       "      <td>625475.10</td>\n",
       "      <td>93034.20</td>\n",
       "      <td>246747.13</td>\n",
       "      <td>19103.69</td>\n",
       "      <td>266590.08</td>\n",
       "      <td>38620.02</td>\n",
       "      <td>227884.21</td>\n",
       "      <td>85.85</td>\n",
       "      <td>conventional</td>\n",
       "      <td>2015</td>\n",
       "      <td>Denver</td>\n",
       "    </tr>\n",
       "    <tr>\n",
       "      <th>625</th>\n",
       "      <td>1</td>\n",
       "      <td>2015-12-20</td>\n",
       "      <td>1.05</td>\n",
       "      <td>528944.54</td>\n",
       "      <td>113403.55</td>\n",
       "      <td>188263.20</td>\n",
       "      <td>24477.83</td>\n",
       "      <td>202799.96</td>\n",
       "      <td>34993.02</td>\n",
       "      <td>167806.94</td>\n",
       "      <td>0.00</td>\n",
       "      <td>conventional</td>\n",
       "      <td>2015</td>\n",
       "      <td>Denver</td>\n",
       "    </tr>\n",
       "    <tr>\n",
       "      <th>626</th>\n",
       "      <td>2</td>\n",
       "      <td>2015-12-13</td>\n",
       "      <td>0.83</td>\n",
       "      <td>741702.50</td>\n",
       "      <td>96222.34</td>\n",
       "      <td>321764.32</td>\n",
       "      <td>29349.34</td>\n",
       "      <td>294366.50</td>\n",
       "      <td>34244.40</td>\n",
       "      <td>260040.92</td>\n",
       "      <td>81.18</td>\n",
       "      <td>conventional</td>\n",
       "      <td>2015</td>\n",
       "      <td>Denver</td>\n",
       "    </tr>\n",
       "    <tr>\n",
       "      <th>627</th>\n",
       "      <td>3</td>\n",
       "      <td>2015-06-12</td>\n",
       "      <td>0.76</td>\n",
       "      <td>838225.19</td>\n",
       "      <td>111259.34</td>\n",
       "      <td>378124.28</td>\n",
       "      <td>8807.96</td>\n",
       "      <td>340033.61</td>\n",
       "      <td>35086.04</td>\n",
       "      <td>304844.07</td>\n",
       "      <td>103.50</td>\n",
       "      <td>conventional</td>\n",
       "      <td>2015</td>\n",
       "      <td>Denver</td>\n",
       "    </tr>\n",
       "    <tr>\n",
       "      <th>628</th>\n",
       "      <td>4</td>\n",
       "      <td>2015-11-29</td>\n",
       "      <td>1.12</td>\n",
       "      <td>429109.64</td>\n",
       "      <td>85241.45</td>\n",
       "      <td>179982.42</td>\n",
       "      <td>14146.28</td>\n",
       "      <td>149739.49</td>\n",
       "      <td>31920.41</td>\n",
       "      <td>117819.08</td>\n",
       "      <td>0.00</td>\n",
       "      <td>conventional</td>\n",
       "      <td>2015</td>\n",
       "      <td>Denver</td>\n",
       "    </tr>\n",
       "    <tr>\n",
       "      <th>...</th>\n",
       "      <td>...</td>\n",
       "      <td>...</td>\n",
       "      <td>...</td>\n",
       "      <td>...</td>\n",
       "      <td>...</td>\n",
       "      <td>...</td>\n",
       "      <td>...</td>\n",
       "      <td>...</td>\n",
       "      <td>...</td>\n",
       "      <td>...</td>\n",
       "      <td>...</td>\n",
       "      <td>...</td>\n",
       "      <td>...</td>\n",
       "      <td>...</td>\n",
       "    </tr>\n",
       "    <tr>\n",
       "      <th>17764</th>\n",
       "      <td>7</td>\n",
       "      <td>2018-04-02</td>\n",
       "      <td>1.32</td>\n",
       "      <td>17541.66</td>\n",
       "      <td>580.19</td>\n",
       "      <td>2434.85</td>\n",
       "      <td>0.00</td>\n",
       "      <td>14480.83</td>\n",
       "      <td>13820.72</td>\n",
       "      <td>660.11</td>\n",
       "      <td>0.00</td>\n",
       "      <td>organic</td>\n",
       "      <td>2018</td>\n",
       "      <td>Detroit</td>\n",
       "    </tr>\n",
       "    <tr>\n",
       "      <th>17765</th>\n",
       "      <td>8</td>\n",
       "      <td>2018-01-28</td>\n",
       "      <td>1.29</td>\n",
       "      <td>20073.36</td>\n",
       "      <td>738.01</td>\n",
       "      <td>3026.96</td>\n",
       "      <td>0.00</td>\n",
       "      <td>16298.93</td>\n",
       "      <td>12972.63</td>\n",
       "      <td>3326.30</td>\n",
       "      <td>0.00</td>\n",
       "      <td>organic</td>\n",
       "      <td>2018</td>\n",
       "      <td>Detroit</td>\n",
       "    </tr>\n",
       "    <tr>\n",
       "      <th>17766</th>\n",
       "      <td>9</td>\n",
       "      <td>2018-01-21</td>\n",
       "      <td>1.41</td>\n",
       "      <td>22121.43</td>\n",
       "      <td>826.25</td>\n",
       "      <td>3379.62</td>\n",
       "      <td>0.00</td>\n",
       "      <td>17890.60</td>\n",
       "      <td>11215.49</td>\n",
       "      <td>6675.11</td>\n",
       "      <td>0.00</td>\n",
       "      <td>organic</td>\n",
       "      <td>2018</td>\n",
       "      <td>Detroit</td>\n",
       "    </tr>\n",
       "    <tr>\n",
       "      <th>17767</th>\n",
       "      <td>10</td>\n",
       "      <td>2018-01-14</td>\n",
       "      <td>1.32</td>\n",
       "      <td>20636.96</td>\n",
       "      <td>750.22</td>\n",
       "      <td>3266.56</td>\n",
       "      <td>0.00</td>\n",
       "      <td>16598.98</td>\n",
       "      <td>15422.79</td>\n",
       "      <td>1176.19</td>\n",
       "      <td>0.00</td>\n",
       "      <td>organic</td>\n",
       "      <td>2018</td>\n",
       "      <td>Detroit</td>\n",
       "    </tr>\n",
       "    <tr>\n",
       "      <th>17768</th>\n",
       "      <td>11</td>\n",
       "      <td>2018-07-01</td>\n",
       "      <td>1.22</td>\n",
       "      <td>23120.43</td>\n",
       "      <td>1649.74</td>\n",
       "      <td>3006.89</td>\n",
       "      <td>0.00</td>\n",
       "      <td>18452.29</td>\n",
       "      <td>16829.87</td>\n",
       "      <td>1622.42</td>\n",
       "      <td>0.00</td>\n",
       "      <td>organic</td>\n",
       "      <td>2018</td>\n",
       "      <td>Detroit</td>\n",
       "    </tr>\n",
       "  </tbody>\n",
       "</table>\n",
       "<p>676 rows × 14 columns</p>\n",
       "</div>"
      ],
      "text/plain": [
       "       Unnamed: 0       Date  AveragePrice  total_sold  small_sold  \\\n",
       "624             0 2015-12-27          0.98   625475.10    93034.20   \n",
       "625             1 2015-12-20          1.05   528944.54   113403.55   \n",
       "626             2 2015-12-13          0.83   741702.50    96222.34   \n",
       "627             3 2015-06-12          0.76   838225.19   111259.34   \n",
       "628             4 2015-11-29          1.12   429109.64    85241.45   \n",
       "...           ...        ...           ...         ...         ...   \n",
       "17764           7 2018-04-02          1.32    17541.66      580.19   \n",
       "17765           8 2018-01-28          1.29    20073.36      738.01   \n",
       "17766           9 2018-01-21          1.41    22121.43      826.25   \n",
       "17767          10 2018-01-14          1.32    20636.96      750.22   \n",
       "17768          11 2018-07-01          1.22    23120.43     1649.74   \n",
       "\n",
       "       large_sold       sma  Total Bags  Small Bags  Large Bags  XLarge Bags  \\\n",
       "624     246747.13  19103.69   266590.08    38620.02   227884.21        85.85   \n",
       "625     188263.20  24477.83   202799.96    34993.02   167806.94         0.00   \n",
       "626     321764.32  29349.34   294366.50    34244.40   260040.92        81.18   \n",
       "627     378124.28   8807.96   340033.61    35086.04   304844.07       103.50   \n",
       "628     179982.42  14146.28   149739.49    31920.41   117819.08         0.00   \n",
       "...           ...       ...         ...         ...         ...          ...   \n",
       "17764     2434.85      0.00    14480.83    13820.72      660.11         0.00   \n",
       "17765     3026.96      0.00    16298.93    12972.63     3326.30         0.00   \n",
       "17766     3379.62      0.00    17890.60    11215.49     6675.11         0.00   \n",
       "17767     3266.56      0.00    16598.98    15422.79     1176.19         0.00   \n",
       "17768     3006.89      0.00    18452.29    16829.87     1622.42         0.00   \n",
       "\n",
       "               type  year   region  \n",
       "624    conventional  2015   Denver  \n",
       "625    conventional  2015   Denver  \n",
       "626    conventional  2015   Denver  \n",
       "627    conventional  2015   Denver  \n",
       "628    conventional  2015   Denver  \n",
       "...             ...   ...      ...  \n",
       "17764       organic  2018  Detroit  \n",
       "17765       organic  2018  Detroit  \n",
       "17766       organic  2018  Detroit  \n",
       "17767       organic  2018  Detroit  \n",
       "17768       organic  2018  Detroit  \n",
       "\n",
       "[676 rows x 14 columns]"
      ]
     },
     "execution_count": 8,
     "metadata": {},
     "output_type": "execute_result"
    }
   ],
   "source": [
    "data[data['region'].str.contains('De')]"
   ]
  },
  {
   "cell_type": "code",
   "execution_count": 9,
   "metadata": {},
   "outputs": [
    {
     "name": "stdout",
     "output_type": "stream",
     "text": [
      "Our DataFrame has 104 rows.\n"
     ]
    }
   ],
   "source": [
    "data_2 = data.loc[(data.region == \"Denver\")]\n",
    "data_2 = data_2.loc[(data.year == 2016)]\n",
    "print(\"Our DataFrame has \"+str(len(data_2))+\" rows.\")"
   ]
  },
  {
   "cell_type": "markdown",
   "metadata": {},
   "source": [
    "# Q3\n",
    "Whats the mean sales on the new DataFrame (data_2)"
   ]
  },
  {
   "cell_type": "code",
   "execution_count": 10,
   "metadata": {},
   "outputs": [
    {
     "name": "stdout",
     "output_type": "stream",
     "text": [
      "The avarage sales of our DataFrame is 435651.5581730769\n"
     ]
    }
   ],
   "source": [
    "avg_sales = data_2[\"total_sold\"].mean()\n",
    "print(\"The avarage sales of our DataFrame is \"+str(avg_sales))"
   ]
  },
  {
   "cell_type": "markdown",
   "metadata": {},
   "source": [
    "# Q4\n",
    "Show the amount of avocado bags sold in september in that DataFrame."
   ]
  },
  {
   "cell_type": "code",
   "execution_count": 11,
   "metadata": {},
   "outputs": [
    {
     "name": "stdout",
     "output_type": "stream",
     "text": [
      "1140308 bags have been sold in september in our DataFrame.\n"
     ]
    }
   ],
   "source": [
    "data_2[\"month\"] = pd.DatetimeIndex(data_2[\"Date\"]).month\n",
    "\n",
    "\n",
    "data_3 = data_2.groupby(\"month\").sum()\n",
    "data_3 = data_3.reset_index()\n",
    "total_bags_sep = int(data_3[\"Total Bags\"][data_3[\"month\"]==9])\n",
    "print(str(total_bags_sep)+\" bags have been sold in september in our DataFrame.\")"
   ]
  },
  {
   "cell_type": "markdown",
   "metadata": {},
   "source": [
    "# Q5\n",
    "Create a visualization to compare total_sold column and types column."
   ]
  },
  {
   "cell_type": "code",
   "execution_count": 12,
   "metadata": {},
   "outputs": [
    {
     "data": {
      "image/png": "[encoded data removed]",
      "text/plain": [
       "<Figure size 648x360 with 1 Axes>"
      ]
     },
     "metadata": {
      "needs_background": "light"
     },
     "output_type": "display_data"
    }
   ],
   "source": [
    "sns.catplot(data=data, kind=\"bar\", x=\"type\", y=\"total_sold\",height=5,aspect=1.8)\n",
    "plt.xlabel(\"Type\",fontsize=15)\n",
    "plt.ylabel(\"Total Sold\",fontsize=15)\n",
    "plt.show()"
   ]
  },
  {
   "cell_type": "markdown",
   "metadata": {},
   "source": [
    "# Q6\n",
    "\n",
    "show the correlation for the columns ['total_sold', 'Total Bags', 'AveragePrice', 'type'], handle with the column 'type' before you show the correlation."
   ]
  },
  {
   "cell_type": "code",
   "execution_count": 13,
   "metadata": {},
   "outputs": [
    {
     "data": {
      "image/png": "[encoded data removed]",
      "text/plain": [
       "<Figure size 720x360 with 2 Axes>"
      ]
     },
     "metadata": {
      "needs_background": "light"
     },
     "output_type": "display_data"
    }
   ],
   "source": [
    "features = ['total_sold', 'Total Bags', 'AveragePrice', 'type']\n",
    "\n",
    "data_6 = data[features]\n",
    "data_6_dummies = pd.get_dummies(data_6['type'])\n",
    "data_6 = pd.concat([data_6, data_6_dummies], axis=1)\n",
    "corr_df = data_6.corr(method='spearman')\n",
    "plt.figure(figsize = (10,5))\n",
    "plt.xticks(fontsize=10)\n",
    "plt.yticks(fontsize=10)\n",
    "sns.heatmap(data=corr_df,cmap='Blues', annot=True)\n",
    "plt.show()\n"
   ]
  },
  {
   "cell_type": "markdown",
   "metadata": {},
   "source": [
    "# Q7\n",
    "Create a scatterplot for the strongest correlation with a color(hue) for each year."
   ]
  },
  {
   "cell_type": "code",
   "execution_count": 14,
   "metadata": {},
   "outputs": [
    {
     "data": {
      "image/png": "[encoded data removed]",
      "text/plain": [
       "<Figure size 1080x720 with 1 Axes>"
      ]
     },
     "metadata": {
      "needs_background": "light"
     },
     "output_type": "display_data"
    }
   ],
   "source": [
    "\n",
    "fig, axes = plt.subplots(figsize=(15, 10))\n",
    "corr_tuples = corr_df.unstack().sort_values()[-6:-5]\n",
    "corr_tuples = pd.Series.keys(corr_tuples)\n",
    "sns.scatterplot(data=data, x=corr_tuples[0][1], y=corr_tuples[0][0],hue=\"year\",palette=\"deep\")\n",
    "plt.xlabel(\"Total Bags\",fontsize=15)\n",
    "plt.ylabel(\"Total Sold\",fontsize=15)\n",
    "plt.show()"
   ]
  },
  {
   "cell_type": "markdown",
   "metadata": {},
   "source": [
    "---\n",
    "# GOOD LUCK !!!!\n",
    "---"
   ]
  },
  {
   "cell_type": "markdown",
   "metadata": {},
   "source": [
    "Extra Questions:"
   ]
  },
  {
   "cell_type": "code",
   "execution_count": 15,
   "metadata": {},
   "outputs": [],
   "source": [
    "# df[\"column\"].fillna(df[\"column\"].mean())"
   ]
  },
  {
   "cell_type": "code",
   "execution_count": 16,
   "metadata": {},
   "outputs": [
    {
     "data": {
      "image/png": "[encoded data removed]",
      "text/plain": [
       "<Figure size 432x288 with 1 Axes>"
      ]
     },
     "metadata": {
      "needs_background": "light"
     },
     "output_type": "display_data"
    }
   ],
   "source": [
    "temp_df = data[\"total_sold\"]\n",
    "sns.histplot(data=temp_df)\n",
    "plt.yscale('log')\n",
    "plt.show()"
   ]
  },
  {
   "cell_type": "code",
   "execution_count": 17,
   "metadata": {},
   "outputs": [
    {
     "data": {
      "text/html": [
       "<div>\n",
       "<style scoped>\n",
       "    .dataframe tbody tr th:only-of-type {\n",
       "        vertical-align: middle;\n",
       "    }\n",
       "\n",
       "    .dataframe tbody tr th {\n",
       "        vertical-align: top;\n",
       "    }\n",
       "\n",
       "    .dataframe thead tr th {\n",
       "        text-align: left;\n",
       "    }\n",
       "</style>\n",
       "<table border=\"1\" class=\"dataframe\">\n",
       "  <thead>\n",
       "    <tr>\n",
       "      <th>type</th>\n",
       "      <th colspan=\"4\" halign=\"left\">conventional</th>\n",
       "      <th colspan=\"4\" halign=\"left\">organic</th>\n",
       "    </tr>\n",
       "    <tr>\n",
       "      <th>year</th>\n",
       "      <th>2015</th>\n",
       "      <th>2016</th>\n",
       "      <th>2017</th>\n",
       "      <th>2018</th>\n",
       "      <th>2015</th>\n",
       "      <th>2016</th>\n",
       "      <th>2017</th>\n",
       "      <th>2018</th>\n",
       "    </tr>\n",
       "  </thead>\n",
       "  <tbody>\n",
       "    <tr>\n",
       "      <th>AveragePrice</th>\n",
       "      <td>1.077963</td>\n",
       "      <td>1.105595</td>\n",
       "      <td>1.294888</td>\n",
       "      <td>1.127886</td>\n",
       "      <td>1.673324</td>\n",
       "      <td>1.571684</td>\n",
       "      <td>1.735521</td>\n",
       "      <td>1.567176</td>\n",
       "    </tr>\n",
       "  </tbody>\n",
       "</table>\n",
       "</div>"
      ],
      "text/plain": [
       "type         conventional                                 organic            \\\n",
       "year                 2015      2016      2017      2018      2015      2016   \n",
       "AveragePrice     1.077963  1.105595  1.294888  1.127886  1.673324  1.571684   \n",
       "\n",
       "type                              \n",
       "year              2017      2018  \n",
       "AveragePrice  1.735521  1.567176  "
      ]
     },
     "execution_count": 17,
     "metadata": {},
     "output_type": "execute_result"
    }
   ],
   "source": [
    "data_temp = data[[\"AveragePrice\",\"type\",\"year\"]]\n",
    "data_temp = data.pivot_table(columns=[\"type\",\"year\"],values=\"AveragePrice\",aggfunc='mean')\n",
    "data_temp"
   ]
  },
  {
   "cell_type": "code",
   "execution_count": 18,
   "metadata": {},
   "outputs": [
    {
     "data": {
      "text/html": [
       "<div>\n",
       "<style scoped>\n",
       "    .dataframe tbody tr th:only-of-type {\n",
       "        vertical-align: middle;\n",
       "    }\n",
       "\n",
       "    .dataframe tbody tr th {\n",
       "        vertical-align: top;\n",
       "    }\n",
       "\n",
       "    .dataframe thead th {\n",
       "        text-align: right;\n",
       "    }\n",
       "</style>\n",
       "<table border=\"1\" class=\"dataframe\">\n",
       "  <thead>\n",
       "    <tr style=\"text-align: right;\">\n",
       "      <th></th>\n",
       "      <th></th>\n",
       "      <th>AveragePrice</th>\n",
       "    </tr>\n",
       "    <tr>\n",
       "      <th>type</th>\n",
       "      <th>year</th>\n",
       "      <th></th>\n",
       "    </tr>\n",
       "  </thead>\n",
       "  <tbody>\n",
       "    <tr>\n",
       "      <th rowspan=\"4\" valign=\"top\">conventional</th>\n",
       "      <th>2015</th>\n",
       "      <td>1.077963</td>\n",
       "    </tr>\n",
       "    <tr>\n",
       "      <th>2016</th>\n",
       "      <td>1.105595</td>\n",
       "    </tr>\n",
       "    <tr>\n",
       "      <th>2017</th>\n",
       "      <td>1.294888</td>\n",
       "    </tr>\n",
       "    <tr>\n",
       "      <th>2018</th>\n",
       "      <td>1.127886</td>\n",
       "    </tr>\n",
       "    <tr>\n",
       "      <th rowspan=\"4\" valign=\"top\">organic</th>\n",
       "      <th>2015</th>\n",
       "      <td>1.673324</td>\n",
       "    </tr>\n",
       "    <tr>\n",
       "      <th>2016</th>\n",
       "      <td>1.571684</td>\n",
       "    </tr>\n",
       "    <tr>\n",
       "      <th>2017</th>\n",
       "      <td>1.735521</td>\n",
       "    </tr>\n",
       "    <tr>\n",
       "      <th>2018</th>\n",
       "      <td>1.567176</td>\n",
       "    </tr>\n",
       "  </tbody>\n",
       "</table>\n",
       "</div>"
      ],
      "text/plain": [
       "                   AveragePrice\n",
       "type         year              \n",
       "conventional 2015      1.077963\n",
       "             2016      1.105595\n",
       "             2017      1.294888\n",
       "             2018      1.127886\n",
       "organic      2015      1.673324\n",
       "             2016      1.571684\n",
       "             2017      1.735521\n",
       "             2018      1.567176"
      ]
     },
     "metadata": {},
     "output_type": "display_data"
    }
   ],
   "source": [
    "data_temp = data.groupby([\"type\",\"year\"])[\"AveragePrice\"].mean()\n",
    "data_temp = pd.DataFrame(data_temp)\n",
    "display(data_temp)"
   ]
  },
  {
   "cell_type": "code",
   "execution_count": 28,
   "metadata": {},
   "outputs": [
    {
     "name": "stdout",
     "output_type": "stream",
     "text": [
      "The MSE is 497209.01247062034\n"
     ]
    }
   ],
   "source": [
    "import sklearn as sk\n",
    "from sklearn import tree\n",
    "from sklearn.tree import DecisionTreeClassifier\n",
    "from sklearn.metrics import mean_squared_error\n",
    "\n",
    "\n",
    "\n",
    "features = ['region', 'type', 'AveragePrice', 'Total Bags']\n",
    "x = pd.get_dummies(data[features])\n",
    "y = data['total_sold']\n",
    "\n",
    "\n",
    "x_train, x_test, y_train, y_test = sk.model_selection.train_test_split(x,y,test_size=0.3,random_state=42)\n",
    "model1 = sk.tree.DecisionTreeRegressor(random_state=42)\n",
    "model1 = model1.fit(x_train,y_train)\n",
    "def eval(x,y,model):\n",
    "    pred=model.predict(x)\n",
    "    print(\"The MSE is \"+str(mean_squared_error(y,pred,squared=False)))\n",
    "\n",
    "    \n",
    "eval(x_test,y_test,model1)\n"
   ]
  },
  {
   "cell_type": "code",
   "execution_count": null,
   "metadata": {},
   "outputs": [],
   "source": []
  }
 ],
 "metadata": {
  "kernelspec": {
   "display_name": "Python 3",
   "language": "python",
   "name": "python3"
  },
  "language_info": {
   "codemirror_mode": {
    "name": "ipython",
    "version": 3
   },
   "file_extension": ".py",
   "mimetype": "text/x-python",
   "name": "python",
   "nbconvert_exporter": "python",
   "pygments_lexer": "ipython3",
   "version": "3.8.5"
  }
 },
 "nbformat": 4,
 "nbformat_minor": 4
}
